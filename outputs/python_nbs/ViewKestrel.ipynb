{
 "cells": [
  {
   "cell_type": "markdown",
   "id": "365c889f",
   "metadata": {},
   "source": [
    "# Explore Kestrel Segmentations\n",
    "\n",
    "To install PyAudioAnalysis\n",
    "```python\n",
    "pip install pyAudioAnalysis\n",
    "```\n",
    "\n",
    "Or developer version\n",
    "\n",
    "```python\n",
    "git clone https://github.com/tyiannak/pyAudioAnalysis.git\n",
    "cd pyAudioAnalysis\n",
    "pip install -r ./requirements.txt\n",
    "pip install -e .\n",
    "cd ..\n",
    "```"
   ]
  },
  {
   "cell_type": "code",
   "execution_count": 1,
   "id": "8850f0a5",
   "metadata": {},
   "outputs": [],
   "source": [
    "import matplotlib.pyplot as plt\n",
    "import sound_segmentation\n",
    "PSeg = sound_segmentation \n",
    "import os\n",
    "import pyAudioAnalysis\n",
    "import numpy as np\n",
    "from pyAudioAnalysis import audioBasicIO as aIO\n",
    "from pyAudioAnalysis import audioSegmentation as aS"
   ]
  },
  {
   "cell_type": "code",
   "execution_count": 2,
   "id": "5b1384b3",
   "metadata": {},
   "outputs": [
    {
     "name": "stderr",
     "output_type": "stream",
     "text": [
      "<ipython-input-2-289f902d4899>:6: UserWarning: Matplotlib is currently using module://ipykernel.pylab.backend_inline, which is a non-GUI backend, so cannot show the figure.\n",
      "  fig.show()\n"
     ]
    },
    {
     "data": {
      "image/png": "[encoded data removed]",
      "text/plain": [
       "<Figure size 432x288 with 1 Axes>"
      ]
     },
     "metadata": {
      "needs_background": "light"
     },
     "output_type": "display_data"
    }
   ],
   "source": [
    "path = os.path.join(os.getcwd(), \"../../\", \"inputs/mp3/mauritius_kestrel.mp3\")\n",
    "\n",
    "(fs,num_a,sound,_) = PSeg.load_data(path)\n",
    "fig = plt.figure()\n",
    "plt.plot(num_a)\n",
    "fig.show()\n",
    "\n"
   ]
  },
  {
   "cell_type": "code",
   "execution_count": 3,
   "id": "f33a3a20",
   "metadata": {},
   "outputs": [
    {
     "name": "stderr",
     "output_type": "stream",
     "text": [
      "<ipython-input-3-6c57278f39a4>:3: VisibleDeprecationWarning: Creating an ndarray from nested sequences exceeding the maximum number of dimensions of 32 is deprecated. If you mean to do this, you must specify 'dtype=object' when creating the ndarray.\n",
      "  sound = np.array(sound[0:1000])\n"
     ]
    }
   ],
   "source": [
    "#?aS.silence_removal\n",
    "\n",
    "sound = np.array(sound[0:1000].T)"
   ]
  },
  {
   "cell_type": "code",
   "execution_count": null,
   "id": "6e43474d",
   "metadata": {},
   "outputs": [],
   "source": [
    "segments = aS.silence_removal(sound, fs, 0.020, 0.020, smooth_window = 1.0, weight = 0.1, plot = True)\n"
   ]
  },
  {
   "cell_type": "code",
   "execution_count": null,
   "id": "8adb0747",
   "metadata": {},
   "outputs": [],
   "source": []
  },
  {
   "cell_type": "code",
   "execution_count": 4,
   "id": "e525c0f6",
   "metadata": {},
   "outputs": [],
   "source": [
    "\n",
    "\n",
    "\n",
    "#path = os.path.join(os.getcwd(), \"../mp3\", \"XC155388-Pink_Pigeon_(song,_Mauritius,_Black_River_Gorge,_nov2012,_2).MP3\")\n",
    "\n",
    "#[Fs, x] = aIO.read_audio_file(path)\n",
    "\n"
   ]
  },
  {
   "cell_type": "code",
   "execution_count": 5,
   "id": "70f9fbe7",
   "metadata": {},
   "outputs": [
    {
     "name": "stdout",
     "output_type": "stream",
     "text": [
      "ERROR! Session/line number was not unique in database. History logging moved to new session 399\n"
     ]
    },
    {
     "ename": "NameError",
     "evalue": "name 'segments' is not defined",
     "output_type": "error",
     "traceback": [
      "\u001b[0;31m---------------------------------------------------------------------------\u001b[0m",
      "\u001b[0;31mNameError\u001b[0m                                 Traceback (most recent call last)",
      "Input \u001b[0;32mIn [5]\u001b[0m, in \u001b[0;36m<cell line: 2>\u001b[0;34m()\u001b[0m\n\u001b[1;32m      1\u001b[0m segs_th\u001b[38;5;241m=\u001b[39m[]\n\u001b[0;32m----> 2\u001b[0m \u001b[38;5;28;01mfor\u001b[39;00m seg \u001b[38;5;129;01min\u001b[39;00m \u001b[43msegments\u001b[49m:\n\u001b[1;32m      3\u001b[0m     onset \u001b[38;5;241m=\u001b[39m \u001b[38;5;28mint\u001b[39m(seg[\u001b[38;5;241m0\u001b[39m]\u001b[38;5;241m*\u001b[39mfs)\n\u001b[1;32m      4\u001b[0m     offset \u001b[38;5;241m=\u001b[39m \u001b[38;5;28mint\u001b[39m(seg[\u001b[38;5;241m1\u001b[39m]\u001b[38;5;241m*\u001b[39mfs)\n",
      "\u001b[0;31mNameError\u001b[0m: name 'segments' is not defined"
     ]
    }
   ],
   "source": [
    "\n",
    "segs_th=[]\n",
    "for seg in segments:\n",
    "    onset = int(seg[0]*fs)\n",
    "    offset = int(seg[1]*fs)\n",
    "    wave = num_a[onset:offset]\n",
    "    segs_th.extend(wave)\n"
   ]
  },
  {
   "cell_type": "code",
   "execution_count": null,
   "id": "5132f706",
   "metadata": {},
   "outputs": [],
   "source": [
    "fig = plt.figure()\n",
    "plt.plot(segs_th,label=\"hard_threshold\")\n",
    "\n",
    "plt.legend()\n",
    "plt.show()"
   ]
  },
  {
   "cell_type": "code",
   "execution_count": null,
   "id": "fb54e7ba",
   "metadata": {},
   "outputs": [],
   "source": [
    "fig = plt.figure()\n",
    "plt.plot(segs_th,color='pink',label=\"hard_threshold\")\n",
    "plt.plot(all_segs,color='grey',label=\"raf_ying_onset_offset\")\n",
    "plt.plot(num_a,color='blue',label=\"original Pink Pigeon\")\n",
    "plt.legend()\n",
    "plt.show()"
   ]
  },
  {
   "cell_type": "code",
   "execution_count": null,
   "id": "6d40b38a",
   "metadata": {},
   "outputs": [],
   "source": []
  }
 ],
 "metadata": {
  "@webio": {
   "lastCommId": null,
   "lastKernelId": null
  },
  "kernelspec": {
   "display_name": "Python 3",
   "language": "python",
   "name": "python3"
  },
  "language_info": {
   "codemirror_mode": {
    "name": "ipython",
    "version": 3
   },
   "file_extension": ".py",
   "mimetype": "text/x-python",
   "name": "python",
   "nbconvert_exporter": "python",
   "pygments_lexer": "ipython3",
   "version": "3.9.12"
  }
 },
 "nbformat": 4,
 "nbformat_minor": 5
}
